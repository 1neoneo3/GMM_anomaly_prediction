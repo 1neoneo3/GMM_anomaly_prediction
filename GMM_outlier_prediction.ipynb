{
 "cells": [
  {
   "cell_type": "markdown",
   "metadata": {},
   "source": [
    "# GMMによる異常値の予測\n",
    "\n",
    "## 1.はじめに\n",
    "\n",
    "本ノートブックでは、混合ガウスモデルを使って異常値の予測を行います。\n",
    "\n",
    "アルゴリズムとしては、GMMを用います。\n",
    "\n",
    "## 2.事前準備\n",
    "### ①scikit-learnのGaussianMixtureを使ってフィッティングと予測のためのクラスの準備\n",
    "\n",
    "GaussianMixtureをそのまま使うとオプションにてクラスタ数を自分で定める必要があり、最適なクラスタ数かどうか分かりません。そこで、BICが最小になるようにクラスタ数を探索するGMMAnomalyDetectorというクラスを作成します。\n",
    "\n",
    "### ②numpyによる標準正規分布を用いた正常値データの生成と異常値データの生成\n",
    "\n",
    "データを自作します。numpyによる乱数を用いて正常値データと異常値データを生成していきます。\n",
    "\n",
    "## 3.コードの作成\n",
    "まずは①のクラスの準備から行っていきます。"
   ]
  },
  {
   "cell_type": "code",
   "execution_count": 1,
   "metadata": {},
   "outputs": [],
   "source": [
    "import numpy as np\n",
    "from sklearn.mixture import GaussianMixture\n",
    "\n",
    "class GMMAnomalyDetector:\n",
    "    def __init__(self, max_n_component, covariance_type='full'):\n",
    "        self._max_n_component = max_n_component\n",
    "        self._covariance_type = covariance_type\n",
    "        self._best_gmm = None\n",
    "        self.best_n_component = -1\n",
    "\n",
    "    def fit(self, X):\n",
    "        # BICを最小にするベストなクラスタ数を2～max_n_componentの範囲で探索\n",
    "        lowest_bic = np.inf\n",
    "        for n_component in range(2, self._max_n_component + 1):\n",
    "            gmm = GaussianMixture(n_components=n_component, covariance_type=self._covariance_type)\n",
    "            gmm.fit(X)\n",
    "            bic = gmm.bic(X)\n",
    "            if bic < lowest_bic:\n",
    "                lowest_bic = bic\n",
    "                self._best_gmm = gmm\n",
    "                self.best_n_component = n_component\n",
    "\n",
    "    def predict(self, X, contamination=0.1):\n",
    "        # スコア下位N%を異常と見なす\n",
    "        scores = np.exp(self._best_gmm.score_samples(X))\n",
    "        ordered_scores = np.argsort(scores)\n",
    "        anomaly_indices = ordered_scores[:int(len(scores)*contamination + 0.5)]\n",
    "        \n",
    "        # scikit-learnに倣って正常を1、異常を-1として返す\n",
    "        prediction = np.ones((len(scores)), dtype=np.int)\n",
    "        prediction[anomaly_indices] = -1\n",
    "        return prediction"
   ]
  },
  {
   "cell_type": "markdown",
   "metadata": {},
   "source": [
    "## 4.トレーニングデータ、異常値データの生成と予測とグラフの描画\n",
    "\n",
    "次に②の部分です。作成したGMMAnomalyDetectorクラスとnumpyの乱数によるトレーニングデータの生成と異常値データの生成を行いフィッティングと予測、グラフの描画を行います。"
   ]
  },
  {
   "cell_type": "code",
   "execution_count": 24,
   "metadata": {},
   "outputs": [
    {
     "data": {
      "image/png": "[encoded data removed]",
      "text/plain": [
       "<Figure size 432x288 with 1 Axes>"
      ]
     },
     "metadata": {
      "needs_background": "light"
     },
     "output_type": "display_data"
    }
   ],
   "source": [
    "import numpy as np\n",
    "import matplotlib.pyplot as plt\n",
    "\n",
    "np.random.seed(42)\n",
    "\n",
    "# trainデータの生成 標準正規分布\n",
    "X_ = 0.3 * np.random.randn(100, 2)\n",
    "\n",
    "# 異常値の生成\n",
    "X_outliers = np.random.uniform(low=-4, high=4, size=(20, 2))\n",
    "X = np.vstack([X_ + 2, X_ - 2, X_outliers])\n",
    "\n",
    "# モデルのフィッティング\n",
    "clf = GMMAnomalyDetector(max_n_component=8)\n",
    "clf.fit(X)\n",
    "\n",
    "# 全体の9%が異常データ\n",
    "contamination = 0.09\n",
    "\n",
    "y_pred = clf.predict(X, contamination)\n",
    "\n",
    "# 正常を1、異常を-1と出力\n",
    "\n",
    "predicted_outlier_index = np.where(y_pred == -1)\n",
    "predicted_outlier = X[predicted_outlier_index]\n",
    "\n",
    "plt.title(\"GMM (k=\" + str(clf.best_n_component) + ')')\n",
    "\n",
    "a = plt.scatter(X[:200, 0], X[:200, 1], c='yellow',\n",
    "                edgecolor='k', s=30, marker='o')\n",
    "b = plt.scatter(X[200:, 0], X[200:, 1], c='red',\n",
    "                edgecolor='k', s=30, marker='o')\n",
    "c = plt.scatter(predicted_outlier[:, 0], predicted_outlier[:, 1], c='blue',\n",
    "                edgecolor='k', s=10, marker='x')\n",
    "plt.axis('tight')\n",
    "plt.xlim((-5, 5))\n",
    "plt.ylim((-5, 5))\n",
    "plt.legend([a, b, c],\n",
    "           [\"normal\",\n",
    "            \"abnormal\",\n",
    "            \"predicted\"],\n",
    "           loc=\"upper left\", prop={'size': 12})\n",
    "plt.show()"
   ]
  },
  {
   "cell_type": "code",
   "execution_count": null,
   "metadata": {},
   "outputs": [],
   "source": []
  }
 ],
 "metadata": {
  "kernelspec": {
   "display_name": "Python 3",
   "language": "python",
   "name": "python3"
  },
  "language_info": {
   "codemirror_mode": {
    "name": "ipython",
    "version": 3
   },
   "file_extension": ".py",
   "mimetype": "text/x-python",
   "name": "python",
   "nbconvert_exporter": "python",
   "pygments_lexer": "ipython3",
   "version": "3.8.5"
  }
 },
 "nbformat": 4,
 "nbformat_minor": 4
}
